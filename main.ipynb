{
 "cells": [
  {
   "cell_type": "code",
   "execution_count": null,
   "id": "e28ae4eb",
   "metadata": {},
   "outputs": [],
   "source": [
    "import pandas as pd\n",
    "from stocks_db import Stocks_DB\n",
    "import tickers\n",
    "import analysis"
   ]
  },
  {
   "cell_type": "code",
   "execution_count": null,
   "id": "2541e220",
   "metadata": {},
   "outputs": [],
   "source": [
    "# Run once\n",
    "db = Stocks_DB()\n",
    "db.setup_database()\n",
    "db.db_close()"
   ]
  },
  {
   "cell_type": "code",
   "execution_count": null,
   "id": "46350a06",
   "metadata": {},
   "outputs": [],
   "source": [
    "russell2000 = tickers.get_russell2000()\n",
    "sp500 = tickers.get_sp500()"
   ]
  },
  {
   "cell_type": "code",
   "execution_count": null,
   "id": "c3bc860f",
   "metadata": {},
   "outputs": [],
   "source": [
    "# Golden Cross cell\n",
    "analysis.run_batches(russell2000, func=analysis.golden_cross)"
   ]
  },
  {
   "cell_type": "code",
   "execution_count": null,
   "id": "bcec7de8",
   "metadata": {},
   "outputs": [],
   "source": [
    "# Run this cell to populate db with russell 2000 stocks\n",
    "analysis.run_batches(russell2000, func=analysis.minervini)"
   ]
  },
  {
   "cell_type": "code",
   "execution_count": null,
   "id": "a0bd70a5",
   "metadata": {},
   "outputs": [],
   "source": [
    "# Run this cell to populate db with S&P 500 stocks\n",
    "analysis.run_batches(sp500, func=analysis.minervini)"
   ]
  },
  {
   "cell_type": "code",
   "execution_count": null,
   "id": "d74c97cb",
   "metadata": {},
   "outputs": [],
   "source": [
    "# Run this cell to check out whole db as a df\n",
    "db = Stocks_DB()\n",
    "df = db.to_pd_df(\"minervini\")\n",
    "db.db_close()\n",
    "df[\"date_checked\"] = pd.to_datetime(df[\"date_checked\"])\n",
    "df[\"last_price_date\"] = pd.to_datetime(df[\"last_price_date\"])\n",
    "\n",
    "df"
   ]
  },
  {
   "cell_type": "code",
   "execution_count": null,
   "id": "1be2241a",
   "metadata": {},
   "outputs": [],
   "source": [
    "# Run this cell after the above cell to check out all the stocks that fit the specified parameters\n",
    "\n",
    "watchlist = df[(df[\"above_sma\"] == 1) & (df[\"sma_uptrend\"] == 1) & (df[\"near_high\"] == 1)]\n",
    "print(len(watchlist)) # number of stocks that fit parameters\n",
    "watchlist"
   ]
  },
  {
   "cell_type": "code",
   "execution_count": null,
   "id": "7f272ff7",
   "metadata": {},
   "outputs": [],
   "source": [
    "# Run this cell after the above cell to check out all the stocks that fit the specified parameters\n",
    "\n",
    "just_analyzed = df[\n",
    "                (df[\"above_sma\"] == 1) & \n",
    "                (df[\"sma_uptrend\"] == 1) & \n",
    "                (df[\"near_high\"] == 1) & \n",
    "                (df[\"date_checked\"] == df[\"date_checked\"].max())\n",
    "                ]\n",
    "print(len(just_analyzed))\n",
    "just_analyzed"
   ]
  },
  {
   "cell_type": "code",
   "execution_count": null,
   "id": "a019df26",
   "metadata": {},
   "outputs": [],
   "source": [
    "# Run this cell to check out golden_cross data\n",
    "db = Stocks_DB()\n",
    "df = db.to_pd_df(\"golden_cross\")\n",
    "db.db_close()\n",
    "\n",
    "df"
   ]
  },
  {
   "cell_type": "code",
   "execution_count": null,
   "id": "24f5dcdb",
   "metadata": {},
   "outputs": [],
   "source": [
    "uptrend = df[df[\"recent_uptrend\"] == 1]\n",
    "uptrend"
   ]
  },
  {
   "cell_type": "code",
   "execution_count": null,
   "id": "8192bf2a",
   "metadata": {},
   "outputs": [],
   "source": [
    "# Volatility index over 1m - 3m, compared to S&P\n",
    "analysis.vix()"
   ]
  },
  {
   "cell_type": "code",
   "execution_count": null,
   "id": "7bf3d3a8",
   "metadata": {},
   "outputs": [],
   "source": []
  }
 ],
 "metadata": {
  "kernelspec": {
   "display_name": ".venv",
   "language": "python",
   "name": "python3"
  },
  "language_info": {
   "codemirror_mode": {
    "name": "ipython",
    "version": 3
   },
   "file_extension": ".py",
   "mimetype": "text/x-python",
   "name": "python",
   "nbconvert_exporter": "python",
   "pygments_lexer": "ipython3",
   "version": "3.13.3"
  }
 },
 "nbformat": 4,
 "nbformat_minor": 5
}
