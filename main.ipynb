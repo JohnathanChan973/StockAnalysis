{
 "cells": [
  {
   "cell_type": "code",
   "execution_count": 2,
   "id": "e28ae4eb",
   "metadata": {},
   "outputs": [],
   "source": [
    "import pandas as pd\n",
    "from stocks_db import Stocks_DB\n",
    "import tickers\n",
    "import analysis"
   ]
  },
  {
   "cell_type": "code",
   "execution_count": 2,
   "id": "2541e220",
   "metadata": {},
   "outputs": [],
   "source": [
    "# Run once\n",
    "db = Stocks_DB()\n",
    "db.setup_database()\n",
    "db.db_close()"
   ]
  },
  {
   "cell_type": "code",
   "execution_count": null,
   "id": "46350a06",
   "metadata": {},
   "outputs": [],
   "source": [
    "russell2000 = tickers.get_russell2000()\n",
    "sp500 = tickers.get_sp500()"
   ]
  },
  {
   "cell_type": "code",
   "execution_count": null,
   "id": "c3bc860f",
   "metadata": {},
   "outputs": [
    {
     "name": "stderr",
     "output_type": "stream",
     "text": [
      "Tickers in Batch 1: 100%|██████████| 20/20 [00:02<00:00,  8.92it/s]\n",
      "Tickers in Batch 2: 100%|██████████| 20/20 [00:00<00:00, 42.13it/s]\n",
      "Tickers in Batch 3: 100%|██████████| 20/20 [00:00<00:00, 41.55it/s]\n",
      "Tickers in Batch 4: 100%|██████████| 20/20 [00:02<00:00,  9.58it/s]\n",
      "Batch Progress: 4it [00:05,  1.37s/it]"
     ]
    },
    {
     "name": "stdout",
     "output_type": "stream",
     "text": [
      "Not enough data for MOGA\n"
     ]
    },
    {
     "name": "stderr",
     "output_type": "stream",
     "text": [
      "Tickers in Batch 5: 100%|██████████| 20/20 [00:00<00:00, 43.95it/s]\n",
      "Tickers in Batch 6: 100%|██████████| 20/20 [00:00<00:00, 47.92it/s]\n",
      "Tickers in Batch 7: 100%|██████████| 20/20 [00:00<00:00, 38.52it/s]\n",
      "Tickers in Batch 8: 100%|██████████| 20/20 [00:00<00:00, 39.40it/s]\n",
      "Tickers in Batch 9: 100%|██████████| 20/20 [00:00<00:00, 44.76it/s]\n",
      "Tickers in Batch 10: 100%|██████████| 20/20 [00:00<00:00, 50.09it/s]\n",
      "Tickers in Batch 11: 100%|██████████| 20/20 [00:00<00:00, 45.01it/s]\n",
      "Tickers in Batch 12: 100%|██████████| 20/20 [00:00<00:00, 44.83it/s]\n",
      "Tickers in Batch 13: 100%|██████████| 20/20 [00:00<00:00, 39.30it/s]\n",
      "Tickers in Batch 14: 100%|██████████| 20/20 [00:00<00:00, 40.85it/s]\n",
      "Tickers in Batch 15: 100%|██████████| 20/20 [00:00<00:00, 39.69it/s]\n",
      "Batch Progress: 15it [00:10,  1.96it/s]"
     ]
    },
    {
     "name": "stdout",
     "output_type": "stream",
     "text": [
      "Not enough data for CLSKW\n"
     ]
    },
    {
     "name": "stderr",
     "output_type": "stream",
     "text": [
      "Tickers in Batch 16: 100%|██████████| 20/20 [00:00<00:00, 44.61it/s]\n",
      "Batch Progress: 16it [00:11,  2.01it/s]"
     ]
    },
    {
     "name": "stdout",
     "output_type": "stream",
     "text": [
      "Not enough data for CON\n"
     ]
    },
    {
     "name": "stderr",
     "output_type": "stream",
     "text": [
      "Tickers in Batch 17: 100%|██████████| 20/20 [00:00<00:00, 47.67it/s]\n",
      "Batch Progress: 17it [00:11,  2.09it/s]"
     ]
    },
    {
     "name": "stdout",
     "output_type": "stream",
     "text": [
      "Not enough data for CURB\n"
     ]
    },
    {
     "name": "stderr",
     "output_type": "stream",
     "text": [
      "Tickers in Batch 18: 100%|██████████| 20/20 [00:00<00:00, 44.16it/s]\n",
      "Tickers in Batch 19: 100%|██████████| 20/20 [00:00<00:00, 43.34it/s]\n",
      "Tickers in Batch 20: 100%|██████████| 20/20 [00:00<00:00, 42.29it/s]\n",
      "Tickers in Batch 21: 100%|██████████| 20/20 [00:00<00:00, 34.08it/s]\n",
      "Tickers in Batch 22: 100%|██████████| 20/20 [00:00<00:00, 45.81it/s]\n",
      "Tickers in Batch 23: 100%|██████████| 20/20 [00:00<00:00, 46.83it/s]\n",
      "Tickers in Batch 24: 100%|██████████| 20/20 [00:00<00:00, 42.37it/s]\n",
      "Tickers in Batch 25: 100%|██████████| 20/20 [00:00<00:00, 39.56it/s]\n",
      "Tickers in Batch 26: 100%|██████████| 20/20 [00:00<00:00, 46.31it/s]\n",
      "Tickers in Batch 27: 100%|██████████| 20/20 [00:00<00:00, 47.00it/s]\n",
      "Tickers in Batch 28: 100%|██████████| 20/20 [00:00<00:00, 45.30it/s]\n",
      "Tickers in Batch 29: 100%|██████████| 20/20 [00:00<00:00, 45.32it/s]\n",
      "Tickers in Batch 30: 100%|██████████| 20/20 [00:00<00:00, 44.13it/s]\n",
      "Tickers in Batch 31: 100%|██████████| 20/20 [00:00<00:00, 35.40it/s]\n",
      "Tickers in Batch 32: 100%|██████████| 20/20 [00:00<00:00, 45.34it/s]\n",
      "Tickers in Batch 33: 100%|██████████| 20/20 [00:00<00:00, 38.99it/s]\n",
      "Tickers in Batch 34: 100%|██████████| 20/20 [00:00<00:00, 41.27it/s]\n",
      "Tickers in Batch 35: 100%|██████████| 20/20 [00:00<00:00, 42.07it/s]\n",
      "Tickers in Batch 36: 100%|██████████| 20/20 [00:00<00:00, 44.80it/s]\n",
      "Tickers in Batch 37: 100%|██████████| 20/20 [00:00<00:00, 42.17it/s]\n",
      "Tickers in Batch 38: 100%|██████████| 20/20 [00:00<00:00, 42.89it/s]\n",
      "Tickers in Batch 39: 100%|██████████| 20/20 [00:01<00:00, 12.87it/s]\n",
      "Batch Progress: 39it [00:23,  1.23it/s]"
     ]
    },
    {
     "name": "stdout",
     "output_type": "stream",
     "text": [
      "Not enough data for LGFB\n"
     ]
    },
    {
     "name": "stderr",
     "output_type": "stream",
     "text": [
      "Tickers in Batch 40: 100%|██████████| 20/20 [00:00<00:00, 43.90it/s]\n",
      "Tickers in Batch 41: 100%|██████████| 20/20 [00:00<00:00, 41.94it/s]\n",
      "Tickers in Batch 42: 100%|██████████| 20/20 [00:00<00:00, 46.20it/s]\n",
      "Tickers in Batch 43: 100%|██████████| 20/20 [00:00<00:00, 44.92it/s]\n",
      "Tickers in Batch 44: 100%|██████████| 20/20 [00:00<00:00, 32.75it/s]\n",
      "Tickers in Batch 45: 100%|██████████| 20/20 [00:00<00:00, 45.27it/s]\n",
      "Tickers in Batch 46: 100%|██████████| 20/20 [00:00<00:00, 43.00it/s]\n",
      "Tickers in Batch 47: 100%|██████████| 20/20 [00:00<00:00, 41.85it/s]\n",
      "Tickers in Batch 48: 100%|██████████| 20/20 [00:00<00:00, 45.38it/s]\n",
      "Tickers in Batch 49: 100%|██████████| 20/20 [00:00<00:00, 45.18it/s]\n",
      "Tickers in Batch 50: 100%|██████████| 20/20 [00:00<00:00, 46.30it/s]\n",
      "Tickers in Batch 51: 100%|██████████| 20/20 [00:01<00:00, 10.60it/s]\n",
      "Batch Progress: 51it [00:30,  1.11it/s]"
     ]
    },
    {
     "name": "stdout",
     "output_type": "stream",
     "text": [
      "Not enough data for LGFA\n"
     ]
    },
    {
     "name": "stderr",
     "output_type": "stream",
     "text": [
      "Tickers in Batch 52: 100%|██████████| 20/20 [00:00<00:00, 40.90it/s]\n",
      "Tickers in Batch 53: 100%|██████████| 20/20 [00:00<00:00, 40.01it/s]\n",
      "Tickers in Batch 54: 100%|██████████| 20/20 [00:00<00:00, 40.39it/s]\n",
      "Tickers in Batch 55: 100%|██████████| 20/20 [00:00<00:00, 45.57it/s]\n",
      "Tickers in Batch 56: 100%|██████████| 20/20 [00:00<00:00, 44.60it/s]\n",
      "Tickers in Batch 57: 100%|██████████| 20/20 [00:01<00:00, 13.63it/s]\n",
      "Batch Progress: 57it [00:34,  1.20it/s]"
     ]
    },
    {
     "name": "stdout",
     "output_type": "stream",
     "text": [
      "Not enough data for MSFUT\n"
     ]
    },
    {
     "name": "stderr",
     "output_type": "stream",
     "text": [
      "Tickers in Batch 58: 100%|██████████| 20/20 [00:00<00:00, 39.18it/s]\n",
      "Tickers in Batch 59: 100%|██████████| 20/20 [00:00<00:00, 44.13it/s]\n",
      "Tickers in Batch 60: 100%|██████████| 20/20 [00:00<00:00, 40.85it/s]\n",
      "Batch Progress: 60it [00:36,  1.63it/s]"
     ]
    },
    {
     "name": "stdout",
     "output_type": "stream",
     "text": [
      "Not enough data for FLOC\n"
     ]
    },
    {
     "name": "stderr",
     "output_type": "stream",
     "text": [
      "Tickers in Batch 61: 100%|██████████| 20/20 [00:00<00:00, 43.51it/s]\n",
      "Tickers in Batch 62: 100%|██████████| 20/20 [00:00<00:00, 48.01it/s]\n",
      "Tickers in Batch 63: 100%|██████████| 20/20 [00:00<00:00, 46.51it/s]\n",
      "Tickers in Batch 64: 100%|██████████| 20/20 [00:00<00:00, 40.98it/s]"
     ]
    },
    {
     "name": "stdout",
     "output_type": "stream",
     "text": [
      "Not enough data for KLC\n"
     ]
    },
    {
     "name": "stderr",
     "output_type": "stream",
     "text": [
      "\n",
      "Batch Progress: 64it [00:37,  1.98it/s]"
     ]
    },
    {
     "name": "stdout",
     "output_type": "stream",
     "text": [
      "Not enough data for MTSR\n"
     ]
    },
    {
     "name": "stderr",
     "output_type": "stream",
     "text": [
      "Tickers in Batch 65: 100%|██████████| 20/20 [00:00<00:00, 38.94it/s]\n",
      "Tickers in Batch 66: 100%|██████████| 20/20 [00:00<00:00, 42.03it/s]\n",
      "Batch Progress: 66it [00:38,  1.97it/s]"
     ]
    },
    {
     "name": "stdout",
     "output_type": "stream",
     "text": [
      "Not enough data for ARDT\n"
     ]
    },
    {
     "name": "stderr",
     "output_type": "stream",
     "text": []
    },
    {
     "name": "stdout",
     "output_type": "stream",
     "text": [
      "Not enough data for BCAX\n"
     ]
    },
    {
     "name": "stderr",
     "output_type": "stream",
     "text": [
      "Tickers in Batch 67: 100%|██████████| 20/20 [00:00<00:00, 51.33it/s]\n",
      "Tickers in Batch 68: 100%|██████████| 20/20 [00:01<00:00, 12.53it/s]\n",
      "Batch Progress: 68it [00:40,  1.22it/s]"
     ]
    },
    {
     "name": "stdout",
     "output_type": "stream",
     "text": [
      "Not enough data for GEFB\n"
     ]
    },
    {
     "name": "stderr",
     "output_type": "stream",
     "text": []
    },
    {
     "name": "stdout",
     "output_type": "stream",
     "text": [
      "Not enough data for BKV\n"
     ]
    },
    {
     "name": "stderr",
     "output_type": "stream",
     "text": [
      "Tickers in Batch 69: 100%|██████████| 20/20 [00:01<00:00, 10.73it/s]\n",
      "Batch Progress: 69it [00:42,  1.14s/it]"
     ]
    },
    {
     "name": "stdout",
     "output_type": "stream",
     "text": [
      "Not enough data for METCV\n"
     ]
    },
    {
     "name": "stderr",
     "output_type": "stream",
     "text": [
      "Tickers in Batch 70: 100%|██████████| 20/20 [00:00<00:00, 43.24it/s]\n",
      "Tickers in Batch 71: 100%|██████████| 20/20 [00:00<00:00, 46.64it/s]\n",
      "Tickers in Batch 72: 100%|██████████| 20/20 [00:00<00:00, 44.64it/s]\n",
      "Tickers in Batch 73: 100%|██████████| 20/20 [00:00<00:00, 34.36it/s]\n",
      "Batch Progress: 73it [00:44,  1.50it/s]"
     ]
    },
    {
     "name": "stdout",
     "output_type": "stream",
     "text": [
      "Not enough data for CRDA\n"
     ]
    },
    {
     "name": "stderr",
     "output_type": "stream",
     "text": [
      "Tickers in Batch 74: 100%|██████████| 20/20 [00:00<00:00, 50.36it/s]\n",
      "Tickers in Batch 75: 100%|██████████| 20/20 [00:00<00:00, 45.35it/s]\n",
      "Batch Progress: 75it [00:45,  1.81it/s]"
     ]
    },
    {
     "name": "stdout",
     "output_type": "stream",
     "text": [
      "Not enough data for CBLL\n",
      "Not enough data for GRDN\n"
     ]
    },
    {
     "name": "stderr",
     "output_type": "stream",
     "text": [
      "Tickers in Batch 76: 100%|██████████| 20/20 [00:00<00:00, 46.56it/s]\n",
      "Batch Progress: 76it [00:46,  1.92it/s]"
     ]
    },
    {
     "name": "stdout",
     "output_type": "stream",
     "text": [
      "Not enough data for INR\n"
     ]
    },
    {
     "name": "stderr",
     "output_type": "stream",
     "text": []
    },
    {
     "name": "stdout",
     "output_type": "stream",
     "text": [
      "Not enough data for FVR\n"
     ]
    },
    {
     "name": "stderr",
     "output_type": "stream",
     "text": [
      "Tickers in Batch 77: 100%|██████████| 20/20 [00:00<00:00, 40.84it/s]\n",
      "Tickers in Batch 78: 100%|██████████| 20/20 [00:00<00:00, 41.88it/s]\n",
      "Tickers in Batch 79: 100%|██████████| 20/20 [00:00<00:00, 42.08it/s]\n",
      "Batch Progress: 79it [00:47,  1.98it/s]"
     ]
    },
    {
     "name": "stdout",
     "output_type": "stream",
     "text": [
      "Not enough data for UPB\n"
     ]
    },
    {
     "name": "stderr",
     "output_type": "stream",
     "text": [
      "Tickers in Batch 80: 100%|██████████| 20/20 [00:00<00:00, 39.34it/s]\n",
      "Batch Progress: 80it [00:48,  1.96it/s]"
     ]
    },
    {
     "name": "stdout",
     "output_type": "stream",
     "text": [
      "Not enough data for BBNX\n"
     ]
    },
    {
     "name": "stderr",
     "output_type": "stream",
     "text": [
      "Tickers in Batch 81: 100%|██████████| 20/20 [00:00<00:00, 47.93it/s]\n",
      "Batch Progress: 81it [00:48,  2.05it/s]"
     ]
    },
    {
     "name": "stdout",
     "output_type": "stream",
     "text": [
      "Not enough data for ZBIO\n"
     ]
    },
    {
     "name": "stderr",
     "output_type": "stream",
     "text": [
      "Tickers in Batch 82: 100%|██████████| 20/20 [00:00<00:00, 47.78it/s]\n",
      "Tickers in Batch 83: 100%|██████████| 20/20 [00:00<00:00, 47.76it/s]\n",
      "Tickers in Batch 84: 100%|██████████| 20/20 [00:00<00:00, 45.73it/s]\n",
      "Batch Progress: 84it [00:49,  2.17it/s]"
     ]
    },
    {
     "name": "stdout",
     "output_type": "stream",
     "text": [
      "Not enough data for SEPN\n"
     ]
    },
    {
     "name": "stderr",
     "output_type": "stream",
     "text": [
      "Tickers in Batch 85: 100%|██████████| 20/20 [00:00<00:00, 42.64it/s]\n",
      "Tickers in Batch 86: 100%|██████████| 20/20 [00:00<00:00, 47.41it/s]\n",
      "Batch Progress: 86it [00:50,  2.18it/s]"
     ]
    },
    {
     "name": "stdout",
     "output_type": "stream",
     "text": [
      "Not enough data for MBX\n"
     ]
    },
    {
     "name": "stderr",
     "output_type": "stream",
     "text": [
      "Tickers in Batch 87: 100%|██████████| 20/20 [00:00<00:00, 45.49it/s]\n",
      "Tickers in Batch 88: 100%|██████████| 20/20 [00:00<00:00, 43.29it/s]\n",
      "Tickers in Batch 89: 100%|██████████| 20/20 [00:00<00:00, 47.24it/s]\n",
      "Tickers in Batch 90: 100%|██████████| 20/20 [00:00<00:00, 46.02it/s]\n",
      "Batch Progress: 90it [00:52,  2.19it/s]"
     ]
    },
    {
     "name": "stdout",
     "output_type": "stream",
     "text": [
      "Not enough data for MAZE\n"
     ]
    },
    {
     "name": "stderr",
     "output_type": "stream",
     "text": [
      "Tickers in Batch 91: 100%|██████████| 20/20 [00:00<00:00, 45.37it/s]\n",
      "Batch Progress: 91it [00:53,  2.19it/s]\n",
      "Tickers in Batch 92:  55%|█████▌    | 11/20 [00:00<00:00, 36.59it/s]"
     ]
    },
    {
     "name": "stdout",
     "output_type": "stream",
     "text": [
      "Not enough data for RHLD\n",
      "Not enough data for BIOA\n"
     ]
    },
    {
     "name": "stderr",
     "output_type": "stream",
     "text": [
      "Tickers in Batch 92: 100%|██████████| 20/20 [00:00<00:00, 45.33it/s]\n",
      "Tickers in Batch 93: 100%|██████████| 20/20 [00:01<00:00, 11.85it/s]\n",
      "Batch Progress: 93it [00:55,  1.20it/s]"
     ]
    },
    {
     "name": "stdout",
     "output_type": "stream",
     "text": [
      "Not enough data for ADRO\n"
     ]
    },
    {
     "name": "stderr",
     "output_type": "stream",
     "text": [
      "\n"
     ]
    },
    {
     "name": "stdout",
     "output_type": "stream",
     "text": [
      "Not enough data for ARTV\n"
     ]
    },
    {
     "name": "stderr",
     "output_type": "stream",
     "text": [
      "Tickers in Batch 94:   5%|▌         | 1/20 [00:00<00:02,  7.00it/s]\u001b[A"
     ]
    },
    {
     "name": "stdout",
     "output_type": "stream",
     "text": [
      "Not enough data for INH\n"
     ]
    },
    {
     "name": "stderr",
     "output_type": "stream",
     "text": [
      "Tickers in Batch 94: 100%|██████████| 20/20 [00:00<00:00, 44.96it/s]\n",
      "Tickers in Batch 95: 100%|██████████| 20/20 [00:00<00:00, 42.74it/s]\n",
      "Batch Progress: 95it [00:56,  1.54it/s]"
     ]
    },
    {
     "name": "stdout",
     "output_type": "stream",
     "text": [
      "Not enough data for ZSPC\n"
     ]
    },
    {
     "name": "stderr",
     "output_type": "stream",
     "text": [
      "Tickers in Batch 96: 100%|██████████| 20/20 [00:00<00:00, 42.54it/s]\n",
      "Batch Progress: 96it [00:56,  1.66it/s]\n",
      "Tickers in Batch 97:  55%|█████▌    | 11/20 [00:00<00:00, 37.89it/s]"
     ]
    },
    {
     "name": "stdout",
     "output_type": "stream",
     "text": [
      "Not enough data for CAMP\n"
     ]
    },
    {
     "name": "stderr",
     "output_type": "stream",
     "text": [
      "\u001b[A"
     ]
    },
    {
     "name": "stdout",
     "output_type": "stream",
     "text": [
      "Not enough data for CAD\n",
      "Not enough data for ADRO\n"
     ]
    },
    {
     "name": "stderr",
     "output_type": "stream",
     "text": []
    },
    {
     "name": "stdout",
     "output_type": "stream",
     "text": [
      "Not enough data for -\n",
      "Not enough data for -\n",
      "Not enough data for GTXI\n"
     ]
    },
    {
     "name": "stderr",
     "output_type": "stream",
     "text": [
      "Tickers in Batch 97: 100%|██████████| 20/20 [00:02<00:00,  6.95it/s]\n",
      "Batch Progress: 97it [00:59,  1.29s/it]"
     ]
    },
    {
     "name": "stdout",
     "output_type": "stream",
     "text": [
      "Not enough data for PDLI\n"
     ]
    },
    {
     "name": "stderr",
     "output_type": "stream",
     "text": []
    },
    {
     "name": "stdout",
     "output_type": "stream",
     "text": [
      "Not enough data for -\n",
      "Not enough data for -\n"
     ]
    },
    {
     "name": "stderr",
     "output_type": "stream",
     "text": [
      "Tickers in Batch 98: 100%|██████████| 6/6 [00:01<00:00,  4.13it/s]\n",
      "Batch Progress: 98it [01:01,  1.60it/s]"
     ]
    },
    {
     "name": "stdout",
     "output_type": "stream",
     "text": [
      "Not enough data for P5N994\n",
      "Not enough data for RTYM5\n"
     ]
    },
    {
     "name": "stderr",
     "output_type": "stream",
     "text": [
      "\n",
      "Retry 1: 100%|██████████| 1/1 [00:00<00:00,  1.44it/s]"
     ]
    },
    {
     "name": "stdout",
     "output_type": "stream",
     "text": [
      "Not enough data for XTSLA\n"
     ]
    },
    {
     "name": "stderr",
     "output_type": "stream",
     "text": [
      "\n"
     ]
    }
   ],
   "source": [
    "# Golden Cross cell\n",
    "analysis.run_batches(russell2000, func=analysis.golden_cross)"
   ]
  },
  {
   "cell_type": "code",
   "execution_count": null,
   "id": "bcec7de8",
   "metadata": {},
   "outputs": [
    {
     "name": "stderr",
     "output_type": "stream",
     "text": [
      "Tickers in Batch 1: 100%|██████████| 20/20 [00:06<00:00,  3.30it/s]\n",
      "Tickers in Batch 2: 100%|██████████| 20/20 [00:00<00:00, 47.47it/s]\n",
      "Tickers in Batch 3: 100%|██████████| 20/20 [00:00<00:00, 43.95it/s]\n",
      "Tickers in Batch 4: 100%|██████████| 20/20 [00:02<00:00,  8.85it/s]\n",
      "Batch Progress: 4it [00:09,  1.94s/it]"
     ]
    },
    {
     "name": "stdout",
     "output_type": "stream",
     "text": [
      "Not enough data for MOGA\n"
     ]
    },
    {
     "name": "stderr",
     "output_type": "stream",
     "text": [
      "Tickers in Batch 5: 100%|██████████| 20/20 [00:00<00:00, 36.91it/s]\n",
      "Tickers in Batch 6: 100%|██████████| 20/20 [00:00<00:00, 42.34it/s]\n",
      "Tickers in Batch 7: 100%|██████████| 20/20 [00:00<00:00, 39.12it/s]\n",
      "Tickers in Batch 8: 100%|██████████| 20/20 [00:01<00:00, 12.25it/s]\n",
      "Tickers in Batch 9: 100%|██████████| 20/20 [00:00<00:00, 43.59it/s]\n",
      "Tickers in Batch 10: 100%|██████████| 20/20 [00:00<00:00, 36.60it/s]\n",
      "Tickers in Batch 11: 100%|██████████| 20/20 [00:00<00:00, 34.66it/s]\n",
      "Tickers in Batch 12: 100%|██████████| 20/20 [00:01<00:00, 17.12it/s]\n",
      "Tickers in Batch 13: 100%|██████████| 20/20 [00:01<00:00, 11.09it/s]\n",
      "Tickers in Batch 14: 100%|██████████| 20/20 [00:01<00:00, 18.05it/s]\n",
      "Tickers in Batch 15: 100%|██████████| 20/20 [00:01<00:00, 16.54it/s]\n",
      "Tickers in Batch 16: 100%|██████████| 20/20 [00:01<00:00, 18.63it/s]\n",
      "Batch Progress: 16it [00:20,  1.19s/it]"
     ]
    },
    {
     "name": "stdout",
     "output_type": "stream",
     "text": [
      "Not enough data for CON\n"
     ]
    },
    {
     "name": "stderr",
     "output_type": "stream",
     "text": [
      "Tickers in Batch 17: 100%|██████████| 20/20 [00:01<00:00, 17.56it/s]\n",
      "Batch Progress: 17it [00:22,  1.19s/it]"
     ]
    },
    {
     "name": "stdout",
     "output_type": "stream",
     "text": [
      "Not enough data for CURB\n"
     ]
    },
    {
     "name": "stderr",
     "output_type": "stream",
     "text": [
      "\n"
     ]
    },
    {
     "name": "stdout",
     "output_type": "stream",
     "text": [
      "Not enough data for CLSKW\n"
     ]
    },
    {
     "name": "stderr",
     "output_type": "stream",
     "text": [
      "Tickers in Batch 18: 100%|██████████| 20/20 [00:01<00:00, 17.30it/s][A\n",
      "Tickers in Batch 19: 100%|██████████| 20/20 [00:01<00:00, 14.20it/s]\n",
      "Tickers in Batch 20: 100%|██████████| 20/20 [00:01<00:00, 19.21it/s]\n",
      "Tickers in Batch 21: 100%|██████████| 20/20 [00:00<00:00, 26.16it/s]\n",
      "Tickers in Batch 22: 100%|██████████| 20/20 [00:00<00:00, 37.71it/s]\n",
      "Tickers in Batch 23: 100%|██████████| 20/20 [00:00<00:00, 41.90it/s]\n",
      "Tickers in Batch 24: 100%|██████████| 20/20 [00:00<00:00, 47.12it/s]\n",
      "Tickers in Batch 25: 100%|██████████| 20/20 [00:00<00:00, 45.99it/s]\n",
      "Tickers in Batch 26: 100%|██████████| 20/20 [00:00<00:00, 42.03it/s]\n",
      "Tickers in Batch 27: 100%|██████████| 20/20 [00:00<00:00, 37.40it/s]\n",
      "Tickers in Batch 28: 100%|██████████| 20/20 [00:00<00:00, 41.16it/s]\n",
      "Tickers in Batch 29: 100%|██████████| 20/20 [00:00<00:00, 34.64it/s]\n",
      "Tickers in Batch 30: 100%|██████████| 20/20 [00:00<00:00, 46.11it/s]\n",
      "Tickers in Batch 31: 100%|██████████| 20/20 [00:00<00:00, 43.08it/s]\n",
      "Tickers in Batch 32: 100%|██████████| 20/20 [00:00<00:00, 45.74it/s]\n",
      "Tickers in Batch 33: 100%|██████████| 20/20 [00:00<00:00, 45.07it/s]\n",
      "Tickers in Batch 34: 100%|██████████| 20/20 [00:00<00:00, 42.34it/s]\n",
      "Tickers in Batch 35: 100%|██████████| 20/20 [00:00<00:00, 39.85it/s]\n",
      "Tickers in Batch 36: 100%|██████████| 20/20 [00:00<00:00, 39.02it/s]\n",
      "Tickers in Batch 37: 100%|██████████| 20/20 [00:00<00:00, 38.65it/s]\n",
      "Batch Progress: 37it [00:34,  1.91it/s]"
     ]
    },
    {
     "name": "stdout",
     "output_type": "stream",
     "text": [
      "Not enough data for MSFUT\n"
     ]
    },
    {
     "name": "stderr",
     "output_type": "stream",
     "text": [
      "Tickers in Batch 38: 100%|██████████| 20/20 [00:02<00:00,  7.60it/s]\n",
      "Batch Progress: 38it [00:37,  1.16s/it]"
     ]
    },
    {
     "name": "stdout",
     "output_type": "stream",
     "text": [
      "Not enough data for LGFB\n"
     ]
    },
    {
     "name": "stderr",
     "output_type": "stream",
     "text": [
      "Tickers in Batch 39: 100%|██████████| 20/20 [00:00<00:00, 45.27it/s]\n",
      "Tickers in Batch 40: 100%|██████████| 20/20 [00:00<00:00, 47.51it/s]\n",
      "Tickers in Batch 41: 100%|██████████| 20/20 [00:00<00:00, 42.70it/s]\n",
      "Tickers in Batch 42: 100%|██████████| 20/20 [00:00<00:00, 43.68it/s]\n",
      "Tickers in Batch 43: 100%|██████████| 20/20 [00:00<00:00, 41.79it/s]\n",
      "Tickers in Batch 44: 100%|██████████| 20/20 [00:00<00:00, 42.15it/s]\n",
      "Tickers in Batch 45: 100%|██████████| 20/20 [00:00<00:00, 44.46it/s]\n",
      "Tickers in Batch 46: 100%|██████████| 20/20 [00:00<00:00, 42.07it/s]\n",
      "Tickers in Batch 47: 100%|██████████| 20/20 [00:00<00:00, 46.23it/s]\n",
      "Tickers in Batch 48: 100%|██████████| 20/20 [00:00<00:00, 42.31it/s]\n",
      "Tickers in Batch 49: 100%|██████████| 20/20 [00:00<00:00, 47.52it/s]\n",
      "Tickers in Batch 50: 100%|██████████| 20/20 [00:00<00:00, 44.55it/s]\n",
      "Tickers in Batch 51: 100%|██████████| 20/20 [00:01<00:00, 12.33it/s]\n",
      "Batch Progress: 51it [00:44,  1.20it/s]"
     ]
    },
    {
     "name": "stdout",
     "output_type": "stream",
     "text": [
      "Not enough data for LGFA\n"
     ]
    },
    {
     "name": "stderr",
     "output_type": "stream",
     "text": [
      "Tickers in Batch 52: 100%|██████████| 20/20 [00:00<00:00, 40.82it/s]\n",
      "Tickers in Batch 53: 100%|██████████| 20/20 [00:00<00:00, 33.37it/s]\n",
      "Tickers in Batch 54: 100%|██████████| 20/20 [00:00<00:00, 38.72it/s]\n",
      "Tickers in Batch 55: 100%|██████████| 20/20 [00:00<00:00, 43.92it/s]\n",
      "Tickers in Batch 56: 100%|██████████| 20/20 [00:00<00:00, 41.64it/s]\n",
      "Tickers in Batch 57: 100%|██████████| 20/20 [00:00<00:00, 38.89it/s]\n",
      "Tickers in Batch 58: 100%|██████████| 20/20 [00:00<00:00, 44.37it/s]\n",
      "Tickers in Batch 59: 100%|██████████| 20/20 [00:00<00:00, 42.99it/s]\n",
      "Batch Progress: 59it [00:48,  1.91it/s]"
     ]
    },
    {
     "name": "stdout",
     "output_type": "stream",
     "text": [
      "Not enough data for FLOC\n"
     ]
    },
    {
     "name": "stderr",
     "output_type": "stream",
     "text": [
      "Tickers in Batch 60: 100%|██████████| 20/20 [00:00<00:00, 39.80it/s]\n",
      "Tickers in Batch 61: 100%|██████████| 20/20 [00:00<00:00, 31.16it/s]\n",
      "Tickers in Batch 62: 100%|██████████| 20/20 [00:00<00:00, 30.03it/s]\n",
      "Tickers in Batch 63: 100%|██████████| 20/20 [00:00<00:00, 38.38it/s]\n",
      "Batch Progress: 63it [00:51,  1.71it/s]"
     ]
    },
    {
     "name": "stdout",
     "output_type": "stream",
     "text": [
      "Not enough data for KLC\n"
     ]
    },
    {
     "name": "stderr",
     "output_type": "stream",
     "text": [
      "Tickers in Batch 64: 100%|██████████| 20/20 [00:00<00:00, 29.91it/s]\n",
      "Tickers in Batch 65: 100%|██████████| 20/20 [00:02<00:00,  7.00it/s]\n",
      "Tickers in Batch 66: 100%|██████████| 20/20 [00:02<00:00,  8.56it/s]\n",
      "Tickers in Batch 67: 100%|██████████| 20/20 [00:02<00:00,  8.20it/s]\n",
      "Tickers in Batch 68: 100%|██████████| 20/20 [00:01<00:00, 10.85it/s]\n",
      "Tickers in Batch 69: 100%|██████████| 20/20 [00:01<00:00, 11.71it/s]\n",
      "Tickers in Batch 70: 100%|██████████| 20/20 [00:11<00:00,  1.81it/s]\n",
      "Tickers in Batch 71: 100%|██████████| 20/20 [00:03<00:00,  5.33it/s]\n",
      "Tickers in Batch 72: 100%|██████████| 20/20 [00:02<00:00,  6.77it/s]\n",
      "Tickers in Batch 73: 100%|██████████| 20/20 [00:01<00:00, 12.05it/s]\n",
      "Tickers in Batch 74: 100%|██████████| 20/20 [00:02<00:00,  8.58it/s]\n",
      "Tickers in Batch 75: 100%|██████████| 20/20 [00:01<00:00, 11.68it/s]\n",
      "Tickers in Batch 76: 100%|██████████| 20/20 [00:02<00:00,  7.31it/s]\n",
      "Tickers in Batch 77: 100%|██████████| 20/20 [00:02<00:00,  9.80it/s]\n",
      "Tickers in Batch 78: 100%|██████████| 20/20 [00:02<00:00,  9.66it/s]\n",
      "Tickers in Batch 79: 100%|██████████| 20/20 [00:02<00:00,  7.76it/s]\n",
      "Tickers in Batch 80: 100%|██████████| 20/20 [00:01<00:00, 11.54it/s]\n",
      "Tickers in Batch 81: 100%|██████████| 20/20 [00:01<00:00, 16.91it/s]\n",
      "Tickers in Batch 82: 100%|██████████| 20/20 [00:02<00:00,  9.09it/s]\n",
      "Tickers in Batch 83: 100%|██████████| 20/20 [00:01<00:00, 15.34it/s]\n",
      "Tickers in Batch 84: 100%|██████████| 20/20 [00:01<00:00, 14.90it/s]\n",
      "Tickers in Batch 85: 100%|██████████| 20/20 [00:02<00:00,  7.42it/s]\n",
      "Tickers in Batch 86: 100%|██████████| 20/20 [00:01<00:00, 16.39it/s]\n",
      "Tickers in Batch 87: 100%|██████████| 20/20 [00:02<00:00,  7.31it/s]\n",
      "Tickers in Batch 88: 100%|██████████| 20/20 [00:01<00:00, 16.99it/s]\n",
      "Tickers in Batch 89: 100%|██████████| 20/20 [00:01<00:00, 15.23it/s]\n",
      "Tickers in Batch 90: 100%|██████████| 20/20 [00:02<00:00,  8.30it/s]\n",
      "Tickers in Batch 91: 100%|██████████| 20/20 [00:01<00:00, 11.82it/s]\n",
      "Tickers in Batch 92: 100%|██████████| 20/20 [00:03<00:00,  5.90it/s]\n",
      "Tickers in Batch 93: 100%|██████████| 20/20 [00:03<00:00,  6.57it/s]\n",
      "Tickers in Batch 94: 100%|██████████| 20/20 [00:01<00:00, 14.60it/s]\n",
      "Tickers in Batch 95: 100%|██████████| 20/20 [00:01<00:00, 10.16it/s]\n",
      "Tickers in Batch 96: 100%|██████████| 20/20 [00:01<00:00, 13.07it/s]\n",
      "Tickers in Batch 97: 100%|██████████| 20/20 [00:01<00:00, 13.51it/s]\n",
      "Tickers in Batch 98: 100%|██████████| 9/9 [00:00<00:00, 14.35it/s]\n",
      "Batch Progress: 98it [02:11,  1.34s/it]\n",
      "Retry 1: 100%|██████████| 20/20 [00:01<00:00, 12.57it/s]\n",
      "Retry 1: 100%|██████████| 20/20 [00:01<00:00, 15.55it/s]\n",
      "Retry 1: 100%|██████████| 20/20 [00:01<00:00, 14.11it/s]\n",
      "Retry 1: 100%|██████████| 20/20 [00:02<00:00,  9.88it/s]\n",
      "Retry 1: 100%|██████████| 20/20 [00:01<00:00, 11.01it/s]\n",
      "Retry 1: 100%|██████████| 20/20 [00:01<00:00, 15.32it/s]\n",
      "Retry 1: 100%|██████████| 20/20 [00:01<00:00, 11.51it/s]\n",
      "Retry 1: 100%|██████████| 20/20 [00:02<00:00,  7.45it/s]\n",
      "Retry 1: 100%|██████████| 20/20 [00:03<00:00,  5.94it/s]\n",
      "Retry 1: 100%|██████████| 20/20 [00:03<00:00,  5.60it/s]\n",
      "Retry 1: 100%|██████████| 20/20 [00:01<00:00, 10.27it/s]\n",
      "Retry 1: 100%|██████████| 20/20 [00:03<00:00,  6.05it/s]\n",
      "Retry 1: 100%|██████████| 20/20 [00:01<00:00, 15.26it/s]\n",
      "Retry 1: 100%|██████████| 20/20 [00:02<00:00,  7.57it/s]\n",
      "Retry 1: 100%|██████████| 20/20 [00:02<00:00,  8.67it/s]\n",
      "Retry 1: 100%|██████████| 20/20 [00:01<00:00, 12.06it/s]\n",
      "Retry 1: 100%|██████████| 20/20 [00:01<00:00, 10.89it/s]\n",
      "Retry 1: 100%|██████████| 20/20 [00:01<00:00, 13.72it/s]\n",
      "Retry 1: 100%|██████████| 20/20 [00:01<00:00, 12.29it/s]\n",
      "Retry 1: 100%|██████████| 20/20 [00:01<00:00, 14.25it/s]\n",
      "Retry 1: 100%|██████████| 20/20 [00:01<00:00, 15.33it/s]\n",
      "Retry 1: 100%|██████████| 20/20 [00:01<00:00, 12.51it/s]\n",
      "Retry 1: 100%|██████████| 20/20 [00:02<00:00,  8.84it/s]\n",
      "Retry 1: 100%|██████████| 20/20 [00:01<00:00, 13.27it/s]\n",
      "Retry 1: 100%|██████████| 20/20 [00:01<00:00, 14.28it/s]\n",
      "Retry 1: 100%|██████████| 20/20 [00:01<00:00, 11.81it/s]\n",
      "Retry 1: 100%|██████████| 20/20 [00:01<00:00, 11.93it/s]\n",
      "Retry 1: 100%|██████████| 20/20 [00:01<00:00, 11.70it/s]\n",
      "Retry 1: 100%|██████████| 20/20 [00:03<00:00,  6.40it/s]\n",
      "Retry 1: 100%|██████████| 20/20 [00:01<00:00, 13.40it/s]\n",
      "Retry 1: 100%|██████████| 20/20 [00:01<00:00, 13.13it/s]\n",
      "Retry 1: 100%|██████████| 20/20 [00:01<00:00, 13.38it/s]\n",
      "Retry 1: 100%|██████████| 20/20 [00:02<00:00,  7.87it/s]\n",
      "Retry 1: 100%|██████████| 9/9 [00:00<00:00,  9.58it/s]\n",
      "Retry 2: 100%|██████████| 20/20 [00:01<00:00, 13.30it/s]\n",
      "Retry 2: 100%|██████████| 20/20 [00:02<00:00,  8.95it/s]\n",
      "Retry 2: 100%|██████████| 20/20 [00:02<00:00,  9.22it/s]\n",
      "Retry 2: 100%|██████████| 20/20 [00:01<00:00, 14.56it/s]\n",
      "Retry 2: 100%|██████████| 20/20 [00:01<00:00, 14.21it/s]\n",
      "Retry 2: 100%|██████████| 20/20 [00:01<00:00, 11.67it/s]\n",
      "Retry 2: 100%|██████████| 20/20 [00:01<00:00, 16.43it/s]\n",
      "Retry 2: 100%|██████████| 20/20 [00:00<00:00, 30.79it/s]\n",
      "Retry 2: 100%|██████████| 20/20 [00:00<00:00, 35.89it/s]\n",
      "Retry 2: 100%|██████████| 20/20 [00:00<00:00, 25.19it/s]\n",
      "Retry 2: 100%|██████████| 20/20 [00:00<00:00, 33.75it/s]\n",
      "Retry 2: 100%|██████████| 20/20 [00:00<00:00, 22.25it/s]\n",
      "Retry 2: 100%|██████████| 20/20 [00:00<00:00, 34.64it/s]\n",
      "Retry 2: 100%|██████████| 20/20 [00:00<00:00, 35.18it/s]\n",
      "Retry 2: 100%|██████████| 20/20 [00:00<00:00, 33.77it/s]\n",
      "Retry 2: 100%|██████████| 20/20 [00:00<00:00, 25.11it/s]\n",
      "Retry 2: 100%|██████████| 20/20 [00:00<00:00, 33.44it/s]\n",
      "Retry 2: 100%|██████████| 20/20 [00:00<00:00, 24.03it/s]\n",
      "Retry 2: 100%|██████████| 20/20 [00:00<00:00, 25.31it/s]\n",
      "Retry 2: 100%|██████████| 20/20 [00:00<00:00, 26.67it/s]\n",
      "Retry 2: 100%|██████████| 20/20 [00:00<00:00, 30.43it/s]\n",
      "Retry 2: 100%|██████████| 20/20 [00:01<00:00, 19.04it/s]\n",
      "Retry 2: 100%|██████████| 20/20 [00:00<00:00, 28.49it/s]\n",
      "Retry 2: 100%|██████████| 20/20 [00:00<00:00, 35.01it/s]\n",
      "Retry 2: 100%|██████████| 20/20 [00:00<00:00, 32.75it/s]\n",
      "Retry 2: 100%|██████████| 20/20 [00:00<00:00, 35.63it/s]\n",
      "Retry 2: 100%|██████████| 20/20 [00:00<00:00, 36.51it/s]\n",
      "Retry 2: 100%|██████████| 20/20 [00:00<00:00, 33.88it/s]\n",
      "Retry 2: 100%|██████████| 20/20 [00:00<00:00, 34.68it/s]\n",
      "Retry 2: 100%|██████████| 20/20 [00:00<00:00, 35.54it/s]\n",
      "Retry 2: 100%|██████████| 20/20 [00:00<00:00, 24.01it/s]\n",
      "Retry 2: 100%|██████████| 20/20 [00:00<00:00, 24.01it/s]\n",
      "Retry 2: 100%|██████████| 20/20 [00:00<00:00, 33.75it/s]\n",
      "Retry 2: 100%|██████████| 9/9 [00:00<00:00, 37.45it/s]\n"
     ]
    }
   ],
   "source": [
    "# Run this cell to populate db with russell 2000 stocks\n",
    "analysis.run_batches(russell2000, func=analysis.minervini)"
   ]
  },
  {
   "cell_type": "code",
   "execution_count": null,
   "id": "a0bd70a5",
   "metadata": {},
   "outputs": [
    {
     "name": "stderr",
     "output_type": "stream",
     "text": [
      "Tickers in Batch 1: 100%|██████████| 20/20 [00:01<00:00, 12.09it/s]\n",
      "Tickers in Batch 2: 100%|██████████| 20/20 [00:02<00:00,  8.74it/s]\n",
      "Tickers in Batch 3: 100%|██████████| 20/20 [00:02<00:00,  7.15it/s]\n",
      "Tickers in Batch 4: 100%|██████████| 20/20 [00:01<00:00, 16.58it/s]\n",
      "Tickers in Batch 5: 100%|██████████| 20/20 [00:01<00:00, 10.21it/s]\n",
      "Tickers in Batch 6: 100%|██████████| 20/20 [00:01<00:00, 11.08it/s]\n",
      "Tickers in Batch 7: 100%|██████████| 20/20 [00:01<00:00, 16.47it/s]\n",
      "Tickers in Batch 8: 100%|██████████| 20/20 [00:01<00:00, 11.70it/s]\n",
      "Tickers in Batch 9: 100%|██████████| 20/20 [00:03<00:00,  6.48it/s]\n",
      "Tickers in Batch 10: 100%|██████████| 20/20 [00:02<00:00,  7.87it/s]\n",
      "Tickers in Batch 11: 100%|██████████| 20/20 [00:02<00:00,  8.68it/s]\n",
      "Tickers in Batch 12: 100%|██████████| 20/20 [00:02<00:00,  8.99it/s]\n",
      "Tickers in Batch 13: 100%|██████████| 20/20 [00:01<00:00, 12.08it/s]\n",
      "Tickers in Batch 14: 100%|██████████| 20/20 [00:01<00:00, 12.18it/s]\n",
      "Tickers in Batch 15: 100%|██████████| 20/20 [00:02<00:00,  7.11it/s]\n",
      "Tickers in Batch 16: 100%|██████████| 20/20 [00:02<00:00,  7.81it/s]\n",
      "Tickers in Batch 17: 100%|██████████| 20/20 [00:01<00:00, 10.75it/s]\n",
      "Tickers in Batch 18: 100%|██████████| 20/20 [00:02<00:00,  8.20it/s]\n",
      "Tickers in Batch 19: 100%|██████████| 20/20 [00:01<00:00, 11.77it/s]\n",
      "Tickers in Batch 20: 100%|██████████| 20/20 [00:02<00:00,  7.10it/s]\n",
      "Tickers in Batch 21: 100%|██████████| 20/20 [00:01<00:00, 16.83it/s]\n",
      "Tickers in Batch 22: 100%|██████████| 20/20 [00:01<00:00, 11.85it/s]\n",
      "Tickers in Batch 23: 100%|██████████| 20/20 [00:02<00:00,  8.75it/s]\n",
      "Tickers in Batch 24: 100%|██████████| 20/20 [00:03<00:00,  5.66it/s]\n",
      "Tickers in Batch 25: 100%|██████████| 20/20 [00:01<00:00, 14.14it/s]\n",
      "Tickers in Batch 26: 100%|██████████| 3/3 [00:01<00:00,  1.99it/s]\n",
      "Batch Progress: 26it [00:54,  2.11s/it]\n",
      "Retry 1: 100%|██████████| 20/20 [00:02<00:00,  9.58it/s]\n",
      "Retry 1: 100%|██████████| 20/20 [00:01<00:00, 15.80it/s]\n",
      "Retry 1: 100%|██████████| 20/20 [00:02<00:00,  9.94it/s]\n",
      "Retry 1: 100%|██████████| 20/20 [00:01<00:00, 15.15it/s]\n",
      "Retry 1: 100%|██████████| 20/20 [00:01<00:00, 14.14it/s]\n",
      "Retry 1: 100%|██████████| 20/20 [00:01<00:00, 15.14it/s]\n",
      "Retry 1: 100%|██████████| 20/20 [00:02<00:00,  9.24it/s]\n",
      "Retry 1: 100%|██████████| 20/20 [00:02<00:00,  9.98it/s]\n",
      "Retry 1: 100%|██████████| 20/20 [00:01<00:00, 13.42it/s]\n",
      "Retry 1: 100%|██████████| 20/20 [00:03<00:00,  5.04it/s]\n",
      "Retry 1: 100%|██████████| 20/20 [00:02<00:00,  8.43it/s]\n",
      "Retry 1: 100%|██████████| 20/20 [00:01<00:00, 11.87it/s]\n",
      "Retry 1: 100%|██████████| 20/20 [00:02<00:00,  8.79it/s]\n",
      "Retry 1: 100%|██████████| 20/20 [00:02<00:00,  8.10it/s]\n",
      "Retry 1: 100%|██████████| 20/20 [00:01<00:00, 10.88it/s]\n",
      "Retry 1: 100%|██████████| 20/20 [00:01<00:00, 13.96it/s]\n",
      "Retry 1: 100%|██████████| 20/20 [00:01<00:00, 12.72it/s]\n",
      "Retry 1: 100%|██████████| 20/20 [00:01<00:00, 12.92it/s]\n",
      "Retry 1: 100%|██████████| 20/20 [00:01<00:00, 12.14it/s]\n",
      "Retry 1: 100%|██████████| 20/20 [00:01<00:00, 10.22it/s]\n",
      "Retry 1: 100%|██████████| 20/20 [00:03<00:00,  5.94it/s]\n",
      "Retry 1: 100%|██████████| 20/20 [00:01<00:00, 10.97it/s]\n",
      "Retry 1: 100%|██████████| 20/20 [00:01<00:00, 15.63it/s]\n",
      "Retry 1: 100%|██████████| 20/20 [00:02<00:00,  8.28it/s]\n",
      "Retry 1: 100%|██████████| 20/20 [00:01<00:00, 15.54it/s]\n",
      "Retry 1: 100%|██████████| 3/3 [00:01<00:00,  1.71it/s]\n",
      "Retry 2: 100%|██████████| 20/20 [00:01<00:00, 12.13it/s]\n",
      "Retry 2: 100%|██████████| 20/20 [00:01<00:00, 14.14it/s]\n",
      "Retry 2: 100%|██████████| 20/20 [00:01<00:00, 10.73it/s]\n",
      "Retry 2: 100%|██████████| 20/20 [00:01<00:00, 11.43it/s]\n",
      "Retry 2: 100%|██████████| 20/20 [00:01<00:00, 15.29it/s]\n",
      "Retry 2: 100%|██████████| 20/20 [00:01<00:00, 14.12it/s]\n",
      "Retry 2: 100%|██████████| 20/20 [00:02<00:00,  7.21it/s]\n",
      "Retry 2: 100%|██████████| 20/20 [00:02<00:00,  8.16it/s]\n",
      "Retry 2: 100%|██████████| 20/20 [00:01<00:00, 12.10it/s]\n",
      "Retry 2: 100%|██████████| 20/20 [00:01<00:00, 12.51it/s]\n",
      "Retry 2: 100%|██████████| 20/20 [00:02<00:00,  7.90it/s]\n",
      "Retry 2: 100%|██████████| 20/20 [00:02<00:00,  8.21it/s]\n",
      "Retry 2: 100%|██████████| 20/20 [00:01<00:00, 16.50it/s]\n",
      "Retry 2: 100%|██████████| 20/20 [00:01<00:00, 12.39it/s]\n",
      "Retry 2: 100%|██████████| 20/20 [00:01<00:00, 10.00it/s]\n",
      "Retry 2: 100%|██████████| 20/20 [00:01<00:00, 14.87it/s]\n",
      "Retry 2: 100%|██████████| 20/20 [00:02<00:00,  7.41it/s]\n",
      "Retry 2: 100%|██████████| 20/20 [00:01<00:00, 14.21it/s]\n",
      "Retry 2: 100%|██████████| 20/20 [00:02<00:00,  8.83it/s]\n",
      "Retry 2: 100%|██████████| 20/20 [00:03<00:00,  6.32it/s]\n",
      "Retry 2: 100%|██████████| 20/20 [00:01<00:00, 14.41it/s]\n",
      "Retry 2: 100%|██████████| 20/20 [00:01<00:00, 16.18it/s]\n",
      "Retry 2: 100%|██████████| 20/20 [00:01<00:00, 13.63it/s]\n",
      "Retry 2: 100%|██████████| 20/20 [00:01<00:00, 10.58it/s]\n",
      "Retry 2: 100%|██████████| 20/20 [00:03<00:00,  5.77it/s]\n",
      "Retry 2: 100%|██████████| 3/3 [00:01<00:00,  2.08it/s]\n"
     ]
    }
   ],
   "source": [
    "# Run this cell to populate db with S&P 500 stocks\n",
    "analysis.run_batches(sp500, func=analysis.minervini)"
   ]
  },
  {
   "cell_type": "code",
   "execution_count": 9,
   "id": "d74c97cb",
   "metadata": {},
   "outputs": [
    {
     "data": {
      "text/html": [
       "<div>\n",
       "<style scoped>\n",
       "    .dataframe tbody tr th:only-of-type {\n",
       "        vertical-align: middle;\n",
       "    }\n",
       "\n",
       "    .dataframe tbody tr th {\n",
       "        vertical-align: top;\n",
       "    }\n",
       "\n",
       "    .dataframe thead th {\n",
       "        text-align: right;\n",
       "    }\n",
       "</style>\n",
       "<table border=\"1\" class=\"dataframe\">\n",
       "  <thead>\n",
       "    <tr style=\"text-align: right;\">\n",
       "      <th></th>\n",
       "      <th>ticker</th>\n",
       "      <th>current_price</th>\n",
       "      <th>moving_avg_200</th>\n",
       "      <th>high_52_week</th>\n",
       "      <th>above_sma</th>\n",
       "      <th>sma_uptrend</th>\n",
       "      <th>near_high</th>\n",
       "      <th>date_checked</th>\n",
       "      <th>last_price_date</th>\n",
       "    </tr>\n",
       "  </thead>\n",
       "  <tbody>\n",
       "    <tr>\n",
       "      <th>0</th>\n",
       "      <td>ACN</td>\n",
       "      <td>282.350006</td>\n",
       "      <td>343.335562</td>\n",
       "      <td>398.250000</td>\n",
       "      <td>0</td>\n",
       "      <td>1</td>\n",
       "      <td>0</td>\n",
       "      <td>2025-04-20</td>\n",
       "      <td>2025-04-17</td>\n",
       "    </tr>\n",
       "    <tr>\n",
       "      <th>1</th>\n",
       "      <td>ADBE</td>\n",
       "      <td>348.799988</td>\n",
       "      <td>482.937449</td>\n",
       "      <td>586.549988</td>\n",
       "      <td>0</td>\n",
       "      <td>0</td>\n",
       "      <td>0</td>\n",
       "      <td>2025-04-20</td>\n",
       "      <td>2025-04-17</td>\n",
       "    </tr>\n",
       "    <tr>\n",
       "      <th>2</th>\n",
       "      <td>ABBV</td>\n",
       "      <td>172.990005</td>\n",
       "      <td>184.539442</td>\n",
       "      <td>214.676071</td>\n",
       "      <td>0</td>\n",
       "      <td>1</td>\n",
       "      <td>0</td>\n",
       "      <td>2025-04-20</td>\n",
       "      <td>2025-04-17</td>\n",
       "    </tr>\n",
       "    <tr>\n",
       "      <th>3</th>\n",
       "      <td>ABT</td>\n",
       "      <td>130.979996</td>\n",
       "      <td>116.912622</td>\n",
       "      <td>139.573471</td>\n",
       "      <td>1</td>\n",
       "      <td>1</td>\n",
       "      <td>0</td>\n",
       "      <td>2025-04-20</td>\n",
       "      <td>2025-04-17</td>\n",
       "    </tr>\n",
       "    <tr>\n",
       "      <th>4</th>\n",
       "      <td>AMD</td>\n",
       "      <td>87.500000</td>\n",
       "      <td>133.192300</td>\n",
       "      <td>183.960007</td>\n",
       "      <td>0</td>\n",
       "      <td>0</td>\n",
       "      <td>0</td>\n",
       "      <td>2025-04-20</td>\n",
       "      <td>2025-04-17</td>\n",
       "    </tr>\n",
       "    <tr>\n",
       "      <th>...</th>\n",
       "      <td>...</td>\n",
       "      <td>...</td>\n",
       "      <td>...</td>\n",
       "      <td>...</td>\n",
       "      <td>...</td>\n",
       "      <td>...</td>\n",
       "      <td>...</td>\n",
       "      <td>...</td>\n",
       "      <td>...</td>\n",
       "    </tr>\n",
       "    <tr>\n",
       "      <th>2400</th>\n",
       "      <td>RGNX</td>\n",
       "      <td>7.820000</td>\n",
       "      <td>9.447250</td>\n",
       "      <td>16.959999</td>\n",
       "      <td>0</td>\n",
       "      <td>0</td>\n",
       "      <td>0</td>\n",
       "      <td>2025-04-22</td>\n",
       "      <td>2025-04-22</td>\n",
       "    </tr>\n",
       "    <tr>\n",
       "      <th>2401</th>\n",
       "      <td>LENZ</td>\n",
       "      <td>25.790001</td>\n",
       "      <td>25.664150</td>\n",
       "      <td>37.369999</td>\n",
       "      <td>1</td>\n",
       "      <td>1</td>\n",
       "      <td>0</td>\n",
       "      <td>2025-04-22</td>\n",
       "      <td>2025-04-22</td>\n",
       "    </tr>\n",
       "    <tr>\n",
       "      <th>2402</th>\n",
       "      <td>PACB</td>\n",
       "      <td>1.170000</td>\n",
       "      <td>1.685600</td>\n",
       "      <td>2.650000</td>\n",
       "      <td>0</td>\n",
       "      <td>0</td>\n",
       "      <td>0</td>\n",
       "      <td>2025-04-22</td>\n",
       "      <td>2025-04-22</td>\n",
       "    </tr>\n",
       "    <tr>\n",
       "      <th>2403</th>\n",
       "      <td>SFIX</td>\n",
       "      <td>3.050000</td>\n",
       "      <td>3.958775</td>\n",
       "      <td>6.640000</td>\n",
       "      <td>0</td>\n",
       "      <td>0</td>\n",
       "      <td>0</td>\n",
       "      <td>2025-04-22</td>\n",
       "      <td>2025-04-22</td>\n",
       "    </tr>\n",
       "    <tr>\n",
       "      <th>2404</th>\n",
       "      <td>CYH</td>\n",
       "      <td>2.410000</td>\n",
       "      <td>3.984100</td>\n",
       "      <td>6.220000</td>\n",
       "      <td>0</td>\n",
       "      <td>0</td>\n",
       "      <td>0</td>\n",
       "      <td>2025-04-22</td>\n",
       "      <td>2025-04-22</td>\n",
       "    </tr>\n",
       "  </tbody>\n",
       "</table>\n",
       "<p>2405 rows × 9 columns</p>\n",
       "</div>"
      ],
      "text/plain": [
       "     ticker  current_price  moving_avg_200  high_52_week  above_sma  \\\n",
       "0       ACN     282.350006      343.335562    398.250000          0   \n",
       "1      ADBE     348.799988      482.937449    586.549988          0   \n",
       "2      ABBV     172.990005      184.539442    214.676071          0   \n",
       "3       ABT     130.979996      116.912622    139.573471          1   \n",
       "4       AMD      87.500000      133.192300    183.960007          0   \n",
       "...     ...            ...             ...           ...        ...   \n",
       "2400   RGNX       7.820000        9.447250     16.959999          0   \n",
       "2401   LENZ      25.790001       25.664150     37.369999          1   \n",
       "2402   PACB       1.170000        1.685600      2.650000          0   \n",
       "2403   SFIX       3.050000        3.958775      6.640000          0   \n",
       "2404    CYH       2.410000        3.984100      6.220000          0   \n",
       "\n",
       "      sma_uptrend  near_high date_checked last_price_date  \n",
       "0               1          0   2025-04-20      2025-04-17  \n",
       "1               0          0   2025-04-20      2025-04-17  \n",
       "2               1          0   2025-04-20      2025-04-17  \n",
       "3               1          0   2025-04-20      2025-04-17  \n",
       "4               0          0   2025-04-20      2025-04-17  \n",
       "...           ...        ...          ...             ...  \n",
       "2400            0          0   2025-04-22      2025-04-22  \n",
       "2401            1          0   2025-04-22      2025-04-22  \n",
       "2402            0          0   2025-04-22      2025-04-22  \n",
       "2403            0          0   2025-04-22      2025-04-22  \n",
       "2404            0          0   2025-04-22      2025-04-22  \n",
       "\n",
       "[2405 rows x 9 columns]"
      ]
     },
     "execution_count": 9,
     "metadata": {},
     "output_type": "execute_result"
    }
   ],
   "source": [
    "# Run this cell to check out whole db as a df\n",
    "db = Stocks_DB()\n",
    "df = db.to_pd_df(\"minervini\")\n",
    "db.db_close()\n",
    "df[\"date_checked\"] = pd.to_datetime(df[\"date_checked\"])\n",
    "df[\"last_price_date\"] = pd.to_datetime(df[\"last_price_date\"])\n",
    "\n",
    "df"
   ]
  },
  {
   "cell_type": "code",
   "execution_count": 6,
   "id": "1be2241a",
   "metadata": {},
   "outputs": [
    {
     "name": "stdout",
     "output_type": "stream",
     "text": [
      "115\n"
     ]
    },
    {
     "data": {
      "text/html": [
       "<div>\n",
       "<style scoped>\n",
       "    .dataframe tbody tr th:only-of-type {\n",
       "        vertical-align: middle;\n",
       "    }\n",
       "\n",
       "    .dataframe tbody tr th {\n",
       "        vertical-align: top;\n",
       "    }\n",
       "\n",
       "    .dataframe thead th {\n",
       "        text-align: right;\n",
       "    }\n",
       "</style>\n",
       "<table border=\"1\" class=\"dataframe\">\n",
       "  <thead>\n",
       "    <tr style=\"text-align: right;\">\n",
       "      <th></th>\n",
       "      <th>ticker</th>\n",
       "      <th>current_price</th>\n",
       "      <th>moving_avg_200</th>\n",
       "      <th>high_52_week</th>\n",
       "      <th>above_sma</th>\n",
       "      <th>sma_uptrend</th>\n",
       "      <th>near_high</th>\n",
       "      <th>date_checked</th>\n",
       "      <th>last_price_date</th>\n",
       "    </tr>\n",
       "  </thead>\n",
       "  <tbody>\n",
       "    <tr>\n",
       "      <th>24</th>\n",
       "      <td>AWK</td>\n",
       "      <td>148.399994</td>\n",
       "      <td>135.807872</td>\n",
       "      <td>151.960007</td>\n",
       "      <td>1</td>\n",
       "      <td>1</td>\n",
       "      <td>1</td>\n",
       "      <td>2025-04-20</td>\n",
       "      <td>2025-04-17</td>\n",
       "    </tr>\n",
       "    <tr>\n",
       "      <th>25</th>\n",
       "      <td>MO</td>\n",
       "      <td>58.160000</td>\n",
       "      <td>51.381986</td>\n",
       "      <td>60.020000</td>\n",
       "      <td>1</td>\n",
       "      <td>1</td>\n",
       "      <td>1</td>\n",
       "      <td>2025-04-20</td>\n",
       "      <td>2025-04-17</td>\n",
       "    </tr>\n",
       "    <tr>\n",
       "      <th>29</th>\n",
       "      <td>AEP</td>\n",
       "      <td>107.709999</td>\n",
       "      <td>97.775819</td>\n",
       "      <td>109.269997</td>\n",
       "      <td>1</td>\n",
       "      <td>1</td>\n",
       "      <td>1</td>\n",
       "      <td>2025-04-20</td>\n",
       "      <td>2025-04-17</td>\n",
       "    </tr>\n",
       "    <tr>\n",
       "      <th>30</th>\n",
       "      <td>AEE</td>\n",
       "      <td>98.650002</td>\n",
       "      <td>88.156214</td>\n",
       "      <td>102.928383</td>\n",
       "      <td>1</td>\n",
       "      <td>1</td>\n",
       "      <td>1</td>\n",
       "      <td>2025-04-20</td>\n",
       "      <td>2025-04-17</td>\n",
       "    </tr>\n",
       "    <tr>\n",
       "      <th>45</th>\n",
       "      <td>ATO</td>\n",
       "      <td>157.539993</td>\n",
       "      <td>138.533052</td>\n",
       "      <td>157.539993</td>\n",
       "      <td>1</td>\n",
       "      <td>1</td>\n",
       "      <td>1</td>\n",
       "      <td>2025-04-20</td>\n",
       "      <td>2025-04-17</td>\n",
       "    </tr>\n",
       "    <tr>\n",
       "      <th>...</th>\n",
       "      <td>...</td>\n",
       "      <td>...</td>\n",
       "      <td>...</td>\n",
       "      <td>...</td>\n",
       "      <td>...</td>\n",
       "      <td>...</td>\n",
       "      <td>...</td>\n",
       "      <td>...</td>\n",
       "      <td>...</td>\n",
       "    </tr>\n",
       "    <tr>\n",
       "      <th>2213</th>\n",
       "      <td>HRTG</td>\n",
       "      <td>18.870001</td>\n",
       "      <td>12.016950</td>\n",
       "      <td>18.870001</td>\n",
       "      <td>1</td>\n",
       "      <td>1</td>\n",
       "      <td>1</td>\n",
       "      <td>2025-04-20</td>\n",
       "      <td>2025-04-17</td>\n",
       "    </tr>\n",
       "    <tr>\n",
       "      <th>2231</th>\n",
       "      <td>GRPN</td>\n",
       "      <td>18.990000</td>\n",
       "      <td>12.548200</td>\n",
       "      <td>19.049999</td>\n",
       "      <td>1</td>\n",
       "      <td>1</td>\n",
       "      <td>1</td>\n",
       "      <td>2025-04-20</td>\n",
       "      <td>2025-04-17</td>\n",
       "    </tr>\n",
       "    <tr>\n",
       "      <th>2310</th>\n",
       "      <td>APEI</td>\n",
       "      <td>24.150000</td>\n",
       "      <td>18.913900</td>\n",
       "      <td>24.150000</td>\n",
       "      <td>1</td>\n",
       "      <td>1</td>\n",
       "      <td>1</td>\n",
       "      <td>2025-04-20</td>\n",
       "      <td>2025-04-17</td>\n",
       "    </tr>\n",
       "    <tr>\n",
       "      <th>2345</th>\n",
       "      <td>HNRG</td>\n",
       "      <td>14.370000</td>\n",
       "      <td>9.986050</td>\n",
       "      <td>14.370000</td>\n",
       "      <td>1</td>\n",
       "      <td>1</td>\n",
       "      <td>1</td>\n",
       "      <td>2025-04-20</td>\n",
       "      <td>2025-04-17</td>\n",
       "    </tr>\n",
       "    <tr>\n",
       "      <th>2397</th>\n",
       "      <td>IPI</td>\n",
       "      <td>29.080000</td>\n",
       "      <td>25.283600</td>\n",
       "      <td>30.320000</td>\n",
       "      <td>1</td>\n",
       "      <td>1</td>\n",
       "      <td>1</td>\n",
       "      <td>2025-04-20</td>\n",
       "      <td>2025-04-17</td>\n",
       "    </tr>\n",
       "  </tbody>\n",
       "</table>\n",
       "<p>115 rows × 9 columns</p>\n",
       "</div>"
      ],
      "text/plain": [
       "     ticker  current_price  moving_avg_200  high_52_week  above_sma  \\\n",
       "24      AWK     148.399994      135.807872    151.960007          1   \n",
       "25       MO      58.160000       51.381986     60.020000          1   \n",
       "29      AEP     107.709999       97.775819    109.269997          1   \n",
       "30      AEE      98.650002       88.156214    102.928383          1   \n",
       "45      ATO     157.539993      138.533052    157.539993          1   \n",
       "...     ...            ...             ...           ...        ...   \n",
       "2213   HRTG      18.870001       12.016950     18.870001          1   \n",
       "2231   GRPN      18.990000       12.548200     19.049999          1   \n",
       "2310   APEI      24.150000       18.913900     24.150000          1   \n",
       "2345   HNRG      14.370000        9.986050     14.370000          1   \n",
       "2397    IPI      29.080000       25.283600     30.320000          1   \n",
       "\n",
       "      sma_uptrend  near_high date_checked last_price_date  \n",
       "24              1          1   2025-04-20      2025-04-17  \n",
       "25              1          1   2025-04-20      2025-04-17  \n",
       "29              1          1   2025-04-20      2025-04-17  \n",
       "30              1          1   2025-04-20      2025-04-17  \n",
       "45              1          1   2025-04-20      2025-04-17  \n",
       "...           ...        ...          ...             ...  \n",
       "2213            1          1   2025-04-20      2025-04-17  \n",
       "2231            1          1   2025-04-20      2025-04-17  \n",
       "2310            1          1   2025-04-20      2025-04-17  \n",
       "2345            1          1   2025-04-20      2025-04-17  \n",
       "2397            1          1   2025-04-20      2025-04-17  \n",
       "\n",
       "[115 rows x 9 columns]"
      ]
     },
     "execution_count": 6,
     "metadata": {},
     "output_type": "execute_result"
    }
   ],
   "source": [
    "# Run this cell after the above cell to check out all the stocks that fit the specified parameters\n",
    "\n",
    "watchlist = df[(df[\"above_sma\"] == 1) & (df[\"sma_uptrend\"] == 1) & (df[\"near_high\"] == 1)]\n",
    "print(len(watchlist)) # number of stocks that fit parameters\n",
    "watchlist"
   ]
  },
  {
   "cell_type": "code",
   "execution_count": 15,
   "id": "7f272ff7",
   "metadata": {},
   "outputs": [
    {
     "name": "stdout",
     "output_type": "stream",
     "text": [
      "115\n"
     ]
    },
    {
     "data": {
      "text/html": [
       "<div>\n",
       "<style scoped>\n",
       "    .dataframe tbody tr th:only-of-type {\n",
       "        vertical-align: middle;\n",
       "    }\n",
       "\n",
       "    .dataframe tbody tr th {\n",
       "        vertical-align: top;\n",
       "    }\n",
       "\n",
       "    .dataframe thead th {\n",
       "        text-align: right;\n",
       "    }\n",
       "</style>\n",
       "<table border=\"1\" class=\"dataframe\">\n",
       "  <thead>\n",
       "    <tr style=\"text-align: right;\">\n",
       "      <th></th>\n",
       "      <th>ticker</th>\n",
       "      <th>current_price</th>\n",
       "      <th>moving_avg_200</th>\n",
       "      <th>high_52_week</th>\n",
       "      <th>above_sma</th>\n",
       "      <th>sma_uptrend</th>\n",
       "      <th>near_high</th>\n",
       "      <th>date_checked</th>\n",
       "      <th>last_price_date</th>\n",
       "    </tr>\n",
       "  </thead>\n",
       "  <tbody>\n",
       "    <tr>\n",
       "      <th>24</th>\n",
       "      <td>AWK</td>\n",
       "      <td>148.399994</td>\n",
       "      <td>135.807872</td>\n",
       "      <td>151.960007</td>\n",
       "      <td>1</td>\n",
       "      <td>1</td>\n",
       "      <td>1</td>\n",
       "      <td>2025-04-20</td>\n",
       "      <td>2025-04-17</td>\n",
       "    </tr>\n",
       "    <tr>\n",
       "      <th>25</th>\n",
       "      <td>MO</td>\n",
       "      <td>58.160000</td>\n",
       "      <td>51.381986</td>\n",
       "      <td>60.020000</td>\n",
       "      <td>1</td>\n",
       "      <td>1</td>\n",
       "      <td>1</td>\n",
       "      <td>2025-04-20</td>\n",
       "      <td>2025-04-17</td>\n",
       "    </tr>\n",
       "    <tr>\n",
       "      <th>29</th>\n",
       "      <td>AEP</td>\n",
       "      <td>107.709999</td>\n",
       "      <td>97.775819</td>\n",
       "      <td>109.269997</td>\n",
       "      <td>1</td>\n",
       "      <td>1</td>\n",
       "      <td>1</td>\n",
       "      <td>2025-04-20</td>\n",
       "      <td>2025-04-17</td>\n",
       "    </tr>\n",
       "    <tr>\n",
       "      <th>30</th>\n",
       "      <td>AEE</td>\n",
       "      <td>98.650002</td>\n",
       "      <td>88.156214</td>\n",
       "      <td>102.928383</td>\n",
       "      <td>1</td>\n",
       "      <td>1</td>\n",
       "      <td>1</td>\n",
       "      <td>2025-04-20</td>\n",
       "      <td>2025-04-17</td>\n",
       "    </tr>\n",
       "    <tr>\n",
       "      <th>45</th>\n",
       "      <td>ATO</td>\n",
       "      <td>157.539993</td>\n",
       "      <td>138.533052</td>\n",
       "      <td>157.539993</td>\n",
       "      <td>1</td>\n",
       "      <td>1</td>\n",
       "      <td>1</td>\n",
       "      <td>2025-04-20</td>\n",
       "      <td>2025-04-17</td>\n",
       "    </tr>\n",
       "    <tr>\n",
       "      <th>...</th>\n",
       "      <td>...</td>\n",
       "      <td>...</td>\n",
       "      <td>...</td>\n",
       "      <td>...</td>\n",
       "      <td>...</td>\n",
       "      <td>...</td>\n",
       "      <td>...</td>\n",
       "      <td>...</td>\n",
       "      <td>...</td>\n",
       "    </tr>\n",
       "    <tr>\n",
       "      <th>2213</th>\n",
       "      <td>HRTG</td>\n",
       "      <td>18.870001</td>\n",
       "      <td>12.016950</td>\n",
       "      <td>18.870001</td>\n",
       "      <td>1</td>\n",
       "      <td>1</td>\n",
       "      <td>1</td>\n",
       "      <td>2025-04-20</td>\n",
       "      <td>2025-04-17</td>\n",
       "    </tr>\n",
       "    <tr>\n",
       "      <th>2231</th>\n",
       "      <td>GRPN</td>\n",
       "      <td>18.990000</td>\n",
       "      <td>12.548200</td>\n",
       "      <td>19.049999</td>\n",
       "      <td>1</td>\n",
       "      <td>1</td>\n",
       "      <td>1</td>\n",
       "      <td>2025-04-20</td>\n",
       "      <td>2025-04-17</td>\n",
       "    </tr>\n",
       "    <tr>\n",
       "      <th>2310</th>\n",
       "      <td>APEI</td>\n",
       "      <td>24.150000</td>\n",
       "      <td>18.913900</td>\n",
       "      <td>24.150000</td>\n",
       "      <td>1</td>\n",
       "      <td>1</td>\n",
       "      <td>1</td>\n",
       "      <td>2025-04-20</td>\n",
       "      <td>2025-04-17</td>\n",
       "    </tr>\n",
       "    <tr>\n",
       "      <th>2345</th>\n",
       "      <td>HNRG</td>\n",
       "      <td>14.370000</td>\n",
       "      <td>9.986050</td>\n",
       "      <td>14.370000</td>\n",
       "      <td>1</td>\n",
       "      <td>1</td>\n",
       "      <td>1</td>\n",
       "      <td>2025-04-20</td>\n",
       "      <td>2025-04-17</td>\n",
       "    </tr>\n",
       "    <tr>\n",
       "      <th>2397</th>\n",
       "      <td>IPI</td>\n",
       "      <td>29.080000</td>\n",
       "      <td>25.283600</td>\n",
       "      <td>30.320000</td>\n",
       "      <td>1</td>\n",
       "      <td>1</td>\n",
       "      <td>1</td>\n",
       "      <td>2025-04-20</td>\n",
       "      <td>2025-04-17</td>\n",
       "    </tr>\n",
       "  </tbody>\n",
       "</table>\n",
       "<p>115 rows × 9 columns</p>\n",
       "</div>"
      ],
      "text/plain": [
       "     ticker  current_price  moving_avg_200  high_52_week  above_sma  \\\n",
       "24      AWK     148.399994      135.807872    151.960007          1   \n",
       "25       MO      58.160000       51.381986     60.020000          1   \n",
       "29      AEP     107.709999       97.775819    109.269997          1   \n",
       "30      AEE      98.650002       88.156214    102.928383          1   \n",
       "45      ATO     157.539993      138.533052    157.539993          1   \n",
       "...     ...            ...             ...           ...        ...   \n",
       "2213   HRTG      18.870001       12.016950     18.870001          1   \n",
       "2231   GRPN      18.990000       12.548200     19.049999          1   \n",
       "2310   APEI      24.150000       18.913900     24.150000          1   \n",
       "2345   HNRG      14.370000        9.986050     14.370000          1   \n",
       "2397    IPI      29.080000       25.283600     30.320000          1   \n",
       "\n",
       "      sma_uptrend  near_high date_checked last_price_date  \n",
       "24              1          1   2025-04-20      2025-04-17  \n",
       "25              1          1   2025-04-20      2025-04-17  \n",
       "29              1          1   2025-04-20      2025-04-17  \n",
       "30              1          1   2025-04-20      2025-04-17  \n",
       "45              1          1   2025-04-20      2025-04-17  \n",
       "...           ...        ...          ...             ...  \n",
       "2213            1          1   2025-04-20      2025-04-17  \n",
       "2231            1          1   2025-04-20      2025-04-17  \n",
       "2310            1          1   2025-04-20      2025-04-17  \n",
       "2345            1          1   2025-04-20      2025-04-17  \n",
       "2397            1          1   2025-04-20      2025-04-17  \n",
       "\n",
       "[115 rows x 9 columns]"
      ]
     },
     "execution_count": 15,
     "metadata": {},
     "output_type": "execute_result"
    }
   ],
   "source": [
    "# Run this cell after the above cell to check out all the stocks that fit the specified parameters\n",
    "\n",
    "just_analyzed = df[\n",
    "                (df[\"above_sma\"] == 1) & \n",
    "                (df[\"sma_uptrend\"] == 1) & \n",
    "                (df[\"near_high\"] == 1) & \n",
    "                (df[\"date_checked\"] == df[\"date_checked\"].max())\n",
    "                ]\n",
    "print(len(just_analyzed))\n",
    "just_analyzed"
   ]
  },
  {
   "cell_type": "code",
   "execution_count": null,
   "id": "a019df26",
   "metadata": {},
   "outputs": [
    {
     "data": {
      "text/html": [
       "<div>\n",
       "<style scoped>\n",
       "    .dataframe tbody tr th:only-of-type {\n",
       "        vertical-align: middle;\n",
       "    }\n",
       "\n",
       "    .dataframe tbody tr th {\n",
       "        vertical-align: top;\n",
       "    }\n",
       "\n",
       "    .dataframe thead th {\n",
       "        text-align: right;\n",
       "    }\n",
       "</style>\n",
       "<table border=\"1\" class=\"dataframe\">\n",
       "  <thead>\n",
       "    <tr style=\"text-align: right;\">\n",
       "      <th></th>\n",
       "      <th>ticker</th>\n",
       "      <th>moving_avg_200</th>\n",
       "      <th>moving_avg_50</th>\n",
       "      <th>recent_uptrend</th>\n",
       "      <th>date_checked</th>\n",
       "      <th>last_price_date</th>\n",
       "    </tr>\n",
       "  </thead>\n",
       "  <tbody>\n",
       "    <tr>\n",
       "      <th>0</th>\n",
       "      <td>TSLA</td>\n",
       "      <td>291.340900</td>\n",
       "      <td>270.594400</td>\n",
       "      <td>0</td>\n",
       "      <td>2025-04-26</td>\n",
       "      <td>2025-04-25</td>\n",
       "    </tr>\n",
       "    <tr>\n",
       "      <th>1</th>\n",
       "      <td>AAPL</td>\n",
       "      <td>227.305851</td>\n",
       "      <td>218.965201</td>\n",
       "      <td>0</td>\n",
       "      <td>2025-04-26</td>\n",
       "      <td>2025-04-25</td>\n",
       "    </tr>\n",
       "    <tr>\n",
       "      <th>2</th>\n",
       "      <td>BECN</td>\n",
       "      <td>104.162350</td>\n",
       "      <td>120.369200</td>\n",
       "      <td>1</td>\n",
       "      <td>2025-04-26</td>\n",
       "      <td>2025-04-25</td>\n",
       "    </tr>\n",
       "    <tr>\n",
       "      <th>3</th>\n",
       "      <td>INSM</td>\n",
       "      <td>73.879200</td>\n",
       "      <td>75.068000</td>\n",
       "      <td>1</td>\n",
       "      <td>2025-04-26</td>\n",
       "      <td>2025-04-25</td>\n",
       "    </tr>\n",
       "    <tr>\n",
       "      <th>4</th>\n",
       "      <td>FTAI</td>\n",
       "      <td>124.100262</td>\n",
       "      <td>109.041555</td>\n",
       "      <td>0</td>\n",
       "      <td>2025-04-26</td>\n",
       "      <td>2025-04-25</td>\n",
       "    </tr>\n",
       "    <tr>\n",
       "      <th>...</th>\n",
       "      <td>...</td>\n",
       "      <td>...</td>\n",
       "      <td>...</td>\n",
       "      <td>...</td>\n",
       "      <td>...</td>\n",
       "      <td>...</td>\n",
       "    </tr>\n",
       "    <tr>\n",
       "      <th>1899</th>\n",
       "      <td>UHG</td>\n",
       "      <td>4.876500</td>\n",
       "      <td>3.148000</td>\n",
       "      <td>0</td>\n",
       "      <td>2025-04-26</td>\n",
       "      <td>2025-04-25</td>\n",
       "    </tr>\n",
       "    <tr>\n",
       "      <th>1900</th>\n",
       "      <td>WLLBW</td>\n",
       "      <td>7.963870</td>\n",
       "      <td>1.738680</td>\n",
       "      <td>0</td>\n",
       "      <td>2025-04-26</td>\n",
       "      <td>2025-04-25</td>\n",
       "    </tr>\n",
       "    <tr>\n",
       "      <th>1901</th>\n",
       "      <td>LYRA</td>\n",
       "      <td>0.221275</td>\n",
       "      <td>0.152580</td>\n",
       "      <td>0</td>\n",
       "      <td>2025-04-26</td>\n",
       "      <td>2025-04-25</td>\n",
       "    </tr>\n",
       "    <tr>\n",
       "      <th>1902</th>\n",
       "      <td>SBT</td>\n",
       "      <td>0.232235</td>\n",
       "      <td>0.960183</td>\n",
       "      <td>1</td>\n",
       "      <td>2025-04-26</td>\n",
       "      <td>2025-04-14</td>\n",
       "    </tr>\n",
       "    <tr>\n",
       "      <th>1903</th>\n",
       "      <td>USD</td>\n",
       "      <td>58.526309</td>\n",
       "      <td>45.565502</td>\n",
       "      <td>0</td>\n",
       "      <td>2025-04-26</td>\n",
       "      <td>2025-04-25</td>\n",
       "    </tr>\n",
       "  </tbody>\n",
       "</table>\n",
       "<p>1904 rows × 6 columns</p>\n",
       "</div>"
      ],
      "text/plain": [
       "     ticker  moving_avg_200  moving_avg_50  recent_uptrend date_checked  \\\n",
       "0      TSLA      291.340900     270.594400               0   2025-04-26   \n",
       "1      AAPL      227.305851     218.965201               0   2025-04-26   \n",
       "2      BECN      104.162350     120.369200               1   2025-04-26   \n",
       "3      INSM       73.879200      75.068000               1   2025-04-26   \n",
       "4      FTAI      124.100262     109.041555               0   2025-04-26   \n",
       "...     ...             ...            ...             ...          ...   \n",
       "1899    UHG        4.876500       3.148000               0   2025-04-26   \n",
       "1900  WLLBW        7.963870       1.738680               0   2025-04-26   \n",
       "1901   LYRA        0.221275       0.152580               0   2025-04-26   \n",
       "1902    SBT        0.232235       0.960183               1   2025-04-26   \n",
       "1903    USD       58.526309      45.565502               0   2025-04-26   \n",
       "\n",
       "     last_price_date  \n",
       "0         2025-04-25  \n",
       "1         2025-04-25  \n",
       "2         2025-04-25  \n",
       "3         2025-04-25  \n",
       "4         2025-04-25  \n",
       "...              ...  \n",
       "1899      2025-04-25  \n",
       "1900      2025-04-25  \n",
       "1901      2025-04-25  \n",
       "1902      2025-04-14  \n",
       "1903      2025-04-25  \n",
       "\n",
       "[1904 rows x 6 columns]"
      ]
     },
     "execution_count": 4,
     "metadata": {},
     "output_type": "execute_result"
    }
   ],
   "source": [
    "# Run this cell to check out golden_cross data\n",
    "db = Stocks_DB()\n",
    "df = db.to_pd_df(\"golden_cross\")\n",
    "db.db_close()\n",
    "\n",
    "df"
   ]
  },
  {
   "cell_type": "code",
   "execution_count": 5,
   "id": "24f5dcdb",
   "metadata": {},
   "outputs": [
    {
     "data": {
      "text/html": [
       "<div>\n",
       "<style scoped>\n",
       "    .dataframe tbody tr th:only-of-type {\n",
       "        vertical-align: middle;\n",
       "    }\n",
       "\n",
       "    .dataframe tbody tr th {\n",
       "        vertical-align: top;\n",
       "    }\n",
       "\n",
       "    .dataframe thead th {\n",
       "        text-align: right;\n",
       "    }\n",
       "</style>\n",
       "<table border=\"1\" class=\"dataframe\">\n",
       "  <thead>\n",
       "    <tr style=\"text-align: right;\">\n",
       "      <th></th>\n",
       "      <th>ticker</th>\n",
       "      <th>moving_avg_200</th>\n",
       "      <th>moving_avg_50</th>\n",
       "      <th>recent_uptrend</th>\n",
       "      <th>date_checked</th>\n",
       "      <th>last_price_date</th>\n",
       "    </tr>\n",
       "  </thead>\n",
       "  <tbody>\n",
       "    <tr>\n",
       "      <th>2</th>\n",
       "      <td>BECN</td>\n",
       "      <td>104.162350</td>\n",
       "      <td>120.369200</td>\n",
       "      <td>1</td>\n",
       "      <td>2025-04-26</td>\n",
       "      <td>2025-04-25</td>\n",
       "    </tr>\n",
       "    <tr>\n",
       "      <th>3</th>\n",
       "      <td>INSM</td>\n",
       "      <td>73.879200</td>\n",
       "      <td>75.068000</td>\n",
       "      <td>1</td>\n",
       "      <td>2025-04-26</td>\n",
       "      <td>2025-04-25</td>\n",
       "    </tr>\n",
       "    <tr>\n",
       "      <th>5</th>\n",
       "      <td>SFM</td>\n",
       "      <td>129.463250</td>\n",
       "      <td>151.157400</td>\n",
       "      <td>1</td>\n",
       "      <td>2025-04-26</td>\n",
       "      <td>2025-04-25</td>\n",
       "    </tr>\n",
       "    <tr>\n",
       "      <th>7</th>\n",
       "      <td>RKLB</td>\n",
       "      <td>16.348300</td>\n",
       "      <td>20.100800</td>\n",
       "      <td>1</td>\n",
       "      <td>2025-04-26</td>\n",
       "      <td>2025-04-25</td>\n",
       "    </tr>\n",
       "    <tr>\n",
       "      <th>8</th>\n",
       "      <td>CRS</td>\n",
       "      <td>168.118769</td>\n",
       "      <td>184.865244</td>\n",
       "      <td>1</td>\n",
       "      <td>2025-04-26</td>\n",
       "      <td>2025-04-25</td>\n",
       "    </tr>\n",
       "    <tr>\n",
       "      <th>...</th>\n",
       "      <td>...</td>\n",
       "      <td>...</td>\n",
       "      <td>...</td>\n",
       "      <td>...</td>\n",
       "      <td>...</td>\n",
       "      <td>...</td>\n",
       "    </tr>\n",
       "    <tr>\n",
       "      <th>1820</th>\n",
       "      <td>VCSA</td>\n",
       "      <td>4.105000</td>\n",
       "      <td>5.303200</td>\n",
       "      <td>1</td>\n",
       "      <td>2025-04-26</td>\n",
       "      <td>2025-04-25</td>\n",
       "    </tr>\n",
       "    <tr>\n",
       "      <th>1836</th>\n",
       "      <td>AMPX</td>\n",
       "      <td>1.973890</td>\n",
       "      <td>2.523200</td>\n",
       "      <td>1</td>\n",
       "      <td>2025-04-26</td>\n",
       "      <td>2025-04-25</td>\n",
       "    </tr>\n",
       "    <tr>\n",
       "      <th>1859</th>\n",
       "      <td>AISP</td>\n",
       "      <td>3.592525</td>\n",
       "      <td>4.102000</td>\n",
       "      <td>1</td>\n",
       "      <td>2025-04-26</td>\n",
       "      <td>2025-04-25</td>\n",
       "    </tr>\n",
       "    <tr>\n",
       "      <th>1874</th>\n",
       "      <td>SWKH</td>\n",
       "      <td>9.862220</td>\n",
       "      <td>10.183640</td>\n",
       "      <td>1</td>\n",
       "      <td>2025-04-26</td>\n",
       "      <td>2025-04-25</td>\n",
       "    </tr>\n",
       "    <tr>\n",
       "      <th>1902</th>\n",
       "      <td>SBT</td>\n",
       "      <td>0.232235</td>\n",
       "      <td>0.960183</td>\n",
       "      <td>1</td>\n",
       "      <td>2025-04-26</td>\n",
       "      <td>2025-04-14</td>\n",
       "    </tr>\n",
       "  </tbody>\n",
       "</table>\n",
       "<p>495 rows × 6 columns</p>\n",
       "</div>"
      ],
      "text/plain": [
       "     ticker  moving_avg_200  moving_avg_50  recent_uptrend date_checked  \\\n",
       "2      BECN      104.162350     120.369200               1   2025-04-26   \n",
       "3      INSM       73.879200      75.068000               1   2025-04-26   \n",
       "5       SFM      129.463250     151.157400               1   2025-04-26   \n",
       "7      RKLB       16.348300      20.100800               1   2025-04-26   \n",
       "8       CRS      168.118769     184.865244               1   2025-04-26   \n",
       "...     ...             ...            ...             ...          ...   \n",
       "1820   VCSA        4.105000       5.303200               1   2025-04-26   \n",
       "1836   AMPX        1.973890       2.523200               1   2025-04-26   \n",
       "1859   AISP        3.592525       4.102000               1   2025-04-26   \n",
       "1874   SWKH        9.862220      10.183640               1   2025-04-26   \n",
       "1902    SBT        0.232235       0.960183               1   2025-04-26   \n",
       "\n",
       "     last_price_date  \n",
       "2         2025-04-25  \n",
       "3         2025-04-25  \n",
       "5         2025-04-25  \n",
       "7         2025-04-25  \n",
       "8         2025-04-25  \n",
       "...              ...  \n",
       "1820      2025-04-25  \n",
       "1836      2025-04-25  \n",
       "1859      2025-04-25  \n",
       "1874      2025-04-25  \n",
       "1902      2025-04-14  \n",
       "\n",
       "[495 rows x 6 columns]"
      ]
     },
     "execution_count": 5,
     "metadata": {},
     "output_type": "execute_result"
    }
   ],
   "source": [
    "uptrend = df[df[\"recent_uptrend\"] == 1]\n",
    "uptrend"
   ]
  },
  {
   "cell_type": "code",
   "execution_count": 3,
   "id": "8192bf2a",
   "metadata": {},
   "outputs": [
    {
     "data": {
      "image/png": "[encoded data removed]",
      "text/plain": [
       "<Figure size 1000x800 with 2 Axes>"
      ]
     },
     "metadata": {},
     "output_type": "display_data"
    }
   ],
   "source": [
    "# Volatility index over 1m - 3m, compared to S&P\n",
    "analysis.vix()"
   ]
  },
  {
   "cell_type": "code",
   "execution_count": null,
   "id": "7bf3d3a8",
   "metadata": {},
   "outputs": [],
   "source": []
  }
 ],
 "metadata": {
  "kernelspec": {
   "display_name": ".venv",
   "language": "python",
   "name": "python3"
  },
  "language_info": {
   "codemirror_mode": {
    "name": "ipython",
    "version": 3
   },
   "file_extension": ".py",
   "mimetype": "text/x-python",
   "name": "python",
   "nbconvert_exporter": "python",
   "pygments_lexer": "ipython3",
   "version": "3.13.3"
  }
 },
 "nbformat": 4,
 "nbformat_minor": 5
}
